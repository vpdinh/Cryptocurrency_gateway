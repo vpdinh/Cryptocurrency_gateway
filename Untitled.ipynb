{
 "cells": [
  {
   "cell_type": "code",
   "execution_count": 6,
   "metadata": {},
   "outputs": [],
   "source": [
    "\n",
    "import pandas as pd\n",
    "import random\n",
    "import sys\n",
    "import math\n",
    "import json\n",
    "import requests\n",
    "import numpy\n",
    "from datetime import datetime"
   ]
  },
  {
   "cell_type": "code",
   "execution_count": 24,
   "metadata": {},
   "outputs": [],
   "source": [
    "response = requests.get(\"https://pro-api.coinmarketcap.com/v1/cryptocurrency/listings/latest?CMC_PRO_API_KEY=85d533f7-65d2-464c-8129-c6dbccbfccaf\").json()"
   ]
  },
  {
   "cell_type": "code",
   "execution_count": 25,
   "metadata": {},
   "outputs": [
    {
     "name": "stdout",
     "output_type": "stream",
     "text": [
      "{'id': 1027, 'name': 'Ethereum', 'symbol': 'ETH', 'slug': 'ethereum', 'circulating_supply': 101598935.9365, 'total_supply': 101598935.9365, 'max_supply': None, 'date_added': '2015-08-07T00:00:00.000Z', 'num_market_pairs': 4056, 'cmc_rank': 2, 'last_updated': '2018-08-28T04:47:34.000Z', 'quote': {'USD': {'price': 284.653520568, 'volume_24h': 1398745272.61898, 'percent_change_1h': 0.143897, 'percent_change_24h': 2.8094, 'percent_change_7d': 1.99825, 'market_cap': 28920494800.287415, 'last_updated': '2018-08-28T04:47:34.000Z'}}}\n"
     ]
    }
   ],
   "source": [
    "print(response[\"data\"][1])"
   ]
  },
  {
   "cell_type": "code",
   "execution_count": null,
   "metadata": {},
   "outputs": [],
   "source": []
  }
 ],
 "metadata": {
  "kernelspec": {
   "display_name": "Python 3",
   "language": "python",
   "name": "python3"
  },
  "language_info": {
   "codemirror_mode": {
    "name": "ipython",
    "version": 3
   },
   "file_extension": ".py",
   "mimetype": "text/x-python",
   "name": "python",
   "nbconvert_exporter": "python",
   "pygments_lexer": "ipython3",
   "version": "3.6.5"
  }
 },
 "nbformat": 4,
 "nbformat_minor": 2
}
